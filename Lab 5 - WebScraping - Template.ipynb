{
 "cells": [
  {
   "cell_type": "markdown",
   "id": "f1b0de4f-c980-47cf-9b84-99595d3c6555",
   "metadata": {},
   "source": [
    "<center>\n",
    "    <img src=\"https://upload.wikimedia.org/wikipedia/vi/1/1d/Logo_%C4%90%E1%BA%A1i_h%E1%BB%8Dc_FPT.png\" width=\"300\" alt=\"cognitiveclass.ai logo\"  />\n",
    "</center>\n",
    "\n",
    "# Lab 5: WebScraping\n",
    "\n",
    "\n",
    "#### Class name: AI1804\n",
    "\n",
    "#### Student code: HE180848\n",
    "\n",
    "#### Student name: Dương Hoàng Lâm\n",
    "\n",
    "<br>\n",
    "\n",
    "## Objectives\n",
    "\n",
    "After completing this lab you will be able to:\n",
    "\n",
    "*   Understand REST APIs\n",
    "*   Using BeautifulSoup module for webscraping\n",
    "\n",
    "\n",
    "Estimated time needed: **60** minutes\n",
    "<h4 style='color:red; font-style:italic'>DO NOT CHEAT! 1 point for anybody copy or share code</h4>"
   ]
  },
  {
   "cell_type": "code",
   "execution_count": 1,
   "id": "e5926a87-2496-4e20-9556-ae0e5ed20fde",
   "metadata": {},
   "outputs": [],
   "source": [
    "# This lab require some library packages. If error happen when running please uncomment lines below to install them:\n",
    "\n",
    "# !conda install bs4==4.10.0 -y\n",
    "# !pip install lxml==4.6.4\n",
    "# !conda install html5lib==1.1 -y\n",
    "# !pip install requests==2.26.0"
   ]
  },
  {
   "cell_type": "markdown",
   "id": "dc793706-ce60-4b1a-a031-6c05d28e0f2b",
   "metadata": {},
   "source": [
    "## 1. Example code"
   ]
  },
  {
   "cell_type": "code",
   "execution_count": 1,
   "id": "8fcbf1af-2865-44ba-966e-c1ae835b3721",
   "metadata": {
    "scrolled": true
   },
   "outputs": [
    {
     "name": "stdout",
     "output_type": "stream",
     "text": [
      "Đồng Việt Nam ( VND )\n",
      "Đô la Australia ( AUD )\n",
      "Đô la Canada ( CAD )\n",
      "Franc Thụy sĩ ( CHF )\n",
      "Nhân dân tệ ( CNY )\n",
      "Krone Đan Mạch ( DKK )\n",
      "Euro ( EUR )\n",
      "Bảng Anh ( GBP )\n",
      "Đô la Hồng Kông ( HKD )\n",
      "Rupiah Indonesia ( IDR )\n",
      "Rupee Ấn Độ ( INR )\n",
      "Yên Nhật ( JPY )\n",
      "Won Hàn Quốc ( KRW )\n",
      "Dinar Kuwait ( KWD )\n",
      "Kip Lào ( LAK )\n",
      "Peso Mexico ( MXN )\n",
      "Ringgit Malaysia ( MYR )\n",
      "Krone Na Uy ( NOK )\n",
      "Đô la New Zealand ( NZD )\n",
      "Peso Philipin ( PHP )\n",
      "Rúp Nga ( RUB )\n",
      "Riyal Ả Rập Saudi ( SAR )\n",
      "Krona Thụy Điển ( SEK )\n",
      "Đô la Singapore ( SGD )\n",
      "Bạt Thái Lan ( THB )\n",
      "Đô la Đài Loan ( TWD )\n",
      "Đô la Mỹ ( USD )\n",
      "Đô la Mỹ Đồng 1,2 ( USD-12 )\n",
      "Đô La Mỹ Đồng 5 - 20 ( USD-5-20 )\n",
      "Đô La Mỹ Đồng 50 - 100 ( USD-50-100 )\n",
      "Đô la Mỹ Đồng 5,10,20 ( USD-51020 )\n",
      "Đô la Mỹ Đồng 1,5 ( USD15 )\n",
      "Rand Nam Phi ( ZAR )\n",
      "Đồng Việt Nam ( VND )\n",
      "Đô la Australia ( AUD )\n",
      "Đô la Canada ( CAD )\n",
      "Franc Thụy sĩ ( CHF )\n",
      "Nhân dân tệ ( CNY )\n",
      "Krone Đan Mạch ( DKK )\n",
      "Euro ( EUR )\n",
      "Bảng Anh ( GBP )\n",
      "Đô la Hồng Kông ( HKD )\n",
      "Rupiah Indonesia ( IDR )\n",
      "Rupee Ấn Độ ( INR )\n",
      "Yên Nhật ( JPY )\n",
      "Won Hàn Quốc ( KRW )\n",
      "Dinar Kuwait ( KWD )\n",
      "Kip Lào ( LAK )\n",
      "Peso Mexico ( MXN )\n",
      "Ringgit Malaysia ( MYR )\n",
      "Krone Na Uy ( NOK )\n",
      "Đô la New Zealand ( NZD )\n",
      "Peso Philipin ( PHP )\n",
      "Rúp Nga ( RUB )\n",
      "Riyal Ả Rập Saudi ( SAR )\n",
      "Krona Thụy Điển ( SEK )\n",
      "Đô la Singapore ( SGD )\n",
      "Bạt Thái Lan ( THB )\n",
      "Đô la Đài Loan ( TWD )\n",
      "Đô la Mỹ ( USD )\n",
      "Đô la Mỹ Đồng 1,2 ( USD-12 )\n",
      "Đô La Mỹ Đồng 5 - 20 ( USD-5-20 )\n",
      "Đô La Mỹ Đồng 50 - 100 ( USD-50-100 )\n",
      "Đô la Mỹ Đồng 5,10,20 ( USD-51020 )\n",
      "Đô la Mỹ Đồng 1,5 ( USD15 )\n",
      "Rand Nam Phi ( ZAR )\n"
     ]
    }
   ],
   "source": [
    "import pandas as pd\n",
    "import requests\n",
    "from bs4 import BeautifulSoup\n",
    "page = requests.get(\"https://webtygia.com/\").text\n",
    "\n",
    "# Create a BeatifulSoup object\n",
    "soup = BeautifulSoup(page, \"html.parser\")\n",
    "\n",
    "# Select html tag by id\n",
    "#print(soup.find(\"select\", {\"id\": \"ctl00_mainContent_ddlCampus\"}))\n",
    "\n",
    "# Pulls all instances of <option> tag\n",
    "campus_options = soup.find_all('option')\n",
    "\n",
    "# print all log in option\n",
    "for option in campus_options:\n",
    "    text = option.contents[0]\n",
    "    print(text)"
   ]
  },
  {
   "cell_type": "markdown",
   "id": "c0ca96fd-aa83-4c97-9102-ff9a4363dbe2",
   "metadata": {},
   "source": [
    "## 2. Data source\n",
    "Implement that code by change the URL\n",
    "* https://webtygia.com/\n",
    "\n",
    "* https://Giavang.net\n",
    "\n",
    "* https://webgia.com/\n",
    "\n",
    "* https://giavangvn.org/\n",
    "\n",
    "* https://www.invert.vn/gia-vang-hom-nay-ar4022\n",
    "\n",
    "or any other URL that you can find!\n"
   ]
  },
  {
   "cell_type": "markdown",
   "id": "fbaa72a7-3d1b-4f86-aaa0-7266e795122b",
   "metadata": {},
   "source": [
    "## 3. Tasks"
   ]
  },
  {
   "cell_type": "markdown",
   "id": "57795be9-2732-4359-a70c-be85ac9f6ae8",
   "metadata": {},
   "source": [
    "### 3.1 Getting the data\n",
    "\n",
    "Using Webscraping to crawling data of SJC gold price in major cities and provinces in Vietnam. The data should have more than 10 records. Display a table to show the data. "
   ]
  },
  {
   "cell_type": "code",
   "execution_count": 8,
   "id": "8d0559cf-26af-4736-a8f3-d705eb2eaf7e",
   "metadata": {
    "scrolled": true
   },
   "outputs": [
    {
     "name": "stdout",
     "output_type": "stream",
     "text": [
      "       Khu vực                                     Loại    Giá mua    Giá bán\n",
      "0  Hồ Chí Minh                  Vàng SJC 1L - 10L - 1KG  7.498.000  7.698.000\n",
      "1  Hồ Chí Minh                      Vàng nữ trang 41,7%  2.913.700  3.163.700\n",
      "2  Hồ Chí Minh                      Vàng nữ trang 58,3%  4.167.100  4.417.100\n",
      "3  Hồ Chí Minh                        Vàng nữ trang 75%  5.428.100  5.678.100\n",
      "4  Hồ Chí Minh                        Vàng nữ trang 99%  7.275.200  7.475.200\n",
      "5  Hồ Chí Minh                     Vàng nữ trang 99,99%  7.450.000  7.550.000\n",
      "6  Hồ Chí Minh              Vàng nhẫn SJC 99,99 0,5 chỉ  7.460.000  7.630.000\n",
      "7  Hồ Chí Minh  Vàng nhẫn SJC 99,99 1 chỉ, 2 chỉ, 5 chỉ  7.460.000  7.620.000\n",
      "8  Hồ Chí Minh     Vàng nhẫn SJC 99,99 0,3 chỉ, 0,5 chỉ  7.460.000  7.630.000\n",
      "9     Biên Hòa                                 Vàng SJC  8.460.000  8.680.000\n"
     ]
    }
   ],
   "source": [
    "# Enter code here\n",
    "page = requests.get(\"https://webtygia.com\").text\n",
    "soup = BeautifulSoup(page, \"html.parser\")\n",
    "table = soup.find('table', id='myTable')\n",
    "tbody = table.find('tbody')\n",
    "trows = tbody.find_all('tr')\n",
    "\n",
    "text = []\n",
    "rdata = []\n",
    "for tr in trows:\n",
    "    for td in tr.find_all(\"td\"):\n",
    "        if td.span is not None:\n",
    "            td.span.decompose()\n",
    "        text.append(td.text.strip())\n",
    "\n",
    "i = 0\n",
    "while i < len(text):\n",
    "    data = tuple([text[i], text[i+1], text[i+2], text[i+3]])\n",
    "    rdata.append(data)\n",
    "    i += 4\n",
    "\n",
    "df = pd.DataFrame(rdata, columns =['Khu vực', 'Loại', 'Giá mua', 'Giá bán'])\n",
    "print(df)"
   ]
  },
  {
   "cell_type": "markdown",
   "id": "463a4276-9163-4e87-9b55-d9519289ab86",
   "metadata": {},
   "source": [
    "### 3.2 Max gold price\n",
    "\n",
    "Which province has the highest gold selling price?"
   ]
  },
  {
   "cell_type": "code",
   "execution_count": 9,
   "id": "4d82f0f7-6618-4461-affa-bf033913f2e8",
   "metadata": {},
   "outputs": [
    {
     "data": {
      "text/html": [
       "<div>\n",
       "<style scoped>\n",
       "    .dataframe tbody tr th:only-of-type {\n",
       "        vertical-align: middle;\n",
       "    }\n",
       "\n",
       "    .dataframe tbody tr th {\n",
       "        vertical-align: top;\n",
       "    }\n",
       "\n",
       "    .dataframe thead th {\n",
       "        text-align: right;\n",
       "    }\n",
       "</style>\n",
       "<table border=\"1\" class=\"dataframe\">\n",
       "  <thead>\n",
       "    <tr style=\"text-align: right;\">\n",
       "      <th></th>\n",
       "      <th>Khu vực</th>\n",
       "      <th>Loại</th>\n",
       "      <th>Giá mua</th>\n",
       "      <th>Giá bán</th>\n",
       "    </tr>\n",
       "  </thead>\n",
       "  <tbody>\n",
       "    <tr>\n",
       "      <th>9</th>\n",
       "      <td>Biên Hòa</td>\n",
       "      <td>Vàng SJC</td>\n",
       "      <td>8.460.000</td>\n",
       "      <td>8.680.000</td>\n",
       "    </tr>\n",
       "  </tbody>\n",
       "</table>\n",
       "</div>"
      ],
      "text/plain": [
       "    Khu vực      Loại    Giá mua    Giá bán\n",
       "9  Biên Hòa  Vàng SJC  8.460.000  8.680.000"
      ]
     },
     "execution_count": 9,
     "metadata": {},
     "output_type": "execute_result"
    }
   ],
   "source": [
    "# Enter code here\n",
    "df.loc[df['Giá bán'] == df['Giá bán'].max()]"
   ]
  },
  {
   "cell_type": "markdown",
   "id": "61e622db-e0ff-482a-b8b5-af5de8203451",
   "metadata": {},
   "source": [
    "### 3.3 Buying and Selling price difference \n",
    "\n",
    "Which provinces have the biggest difference in selling and buying prices?"
   ]
  },
  {
   "cell_type": "code",
   "execution_count": 10,
   "id": "e3e9c56d-c635-4678-921e-a09d5e9e45b9",
   "metadata": {},
   "outputs": [
    {
     "data": {
      "text/plain": [
       "Khu vực             Hồ Chí Minh\n",
       "Loại       Vàng nữ trang 99,99%\n",
       "Giá mua                 8460000\n",
       "Giá bán                 8680000\n",
       "dtype: object"
      ]
     },
     "execution_count": 10,
     "metadata": {},
     "output_type": "execute_result"
    }
   ],
   "source": [
    "# convert the price columns to integers\n",
    "df[\"Giá mua\"] = df[\"Giá mua\"].str.replace('.', '').astype(int)\n",
    "df[\"Giá bán\"] = df[\"Giá bán\"].str.replace('.', '').astype(int)\n",
    "\n",
    "# Enter code here\n",
    "sub_df = df.loc[(df['Giá bán'] - df['Giá mua']) > 0]\n",
    "sub_df.max()"
   ]
  },
  {
   "cell_type": "markdown",
   "id": "8e55cbd5-288d-452e-a99a-512d33bb9493",
   "metadata": {},
   "source": [
    "### 3.4 Average\n",
    "\n",
    "Find the average buying and selling price"
   ]
  },
  {
   "cell_type": "code",
   "execution_count": 11,
   "id": "dfc8b0ca-783b-4402-be30-69aa9fcaaa57",
   "metadata": {},
   "outputs": [
    {
     "name": "stdout",
     "output_type": "stream",
     "text": [
      "6754210.0\n",
      "6557210.0\n"
     ]
    }
   ],
   "source": [
    "# Enter code here\n",
    "print(df[\"Giá bán\"].mean())\n",
    "print(df[\"Giá mua\"].mean())"
   ]
  },
  {
   "cell_type": "markdown",
   "id": "e031c33d-ba10-4b44-a3fe-8fd3a29c23b4",
   "metadata": {},
   "source": [
    "### 3.5 Max difference\n",
    "\n",
    "Find the difference between highest buying price and lowest selling price "
   ]
  },
  {
   "cell_type": "code",
   "execution_count": 14,
   "id": "ab84e8fe-dc8c-4c26-ae62-99871ec3f29e",
   "metadata": {},
   "outputs": [
    {
     "data": {
      "text/plain": [
       "5296300"
      ]
     },
     "execution_count": 14,
     "metadata": {},
     "output_type": "execute_result"
    }
   ],
   "source": [
    "# Enter code here\n",
    "# sub1 = df.loc[df['Giá bán'] == df['Giá bán'].max()]\n",
    "# sub2 = df.loc[df['Giá mua'] == df['Giá mua'].min()]\n",
    "# print(sub1 - sub2)\n",
    "\n",
    "max_buy_price = df['Giá mua'].max()\n",
    "min_sell_price = df['Giá bán'].min()\n",
    "difference = max_buy_price - min_sell_price\n",
    "difference"
   ]
  },
  {
   "cell_type": "markdown",
   "id": "48c8e44c-2e57-4e27-beda-457c3ed6e2cd",
   "metadata": {},
   "source": [
    "## Author\n",
    "\n",
    "#### <a href=\"\" target=\"_blank\">Do Thai Giang</a>\n",
    "\n",
    "## Change Log\n",
    "\n",
    "| Date (YYYY-MM-DD) | Version | Changed By | Change Description                 |\n",
    "| ----------------- | ------- | ---------- | ---------------------------------- |\n",
    "| 2022-10-24        | 1.0     | Giangdt26  | Create the 1st version             |\n",
    "|                   |         |            |                                    |\n",
    "|                   |         |            |                                    |\n",
    "\n",
    "<hr>\n",
    "\n",
    "## <h3 align=\"center\"> © FPT University. All rights reserved. <h3/>\n"
   ]
  }
 ],
 "metadata": {
  "kernelspec": {
   "display_name": "Python 3 (ipykernel)",
   "language": "python",
   "name": "python3"
  },
  "language_info": {
   "codemirror_mode": {
    "name": "ipython",
    "version": 3
   },
   "file_extension": ".py",
   "mimetype": "text/x-python",
   "name": "python",
   "nbconvert_exporter": "python",
   "pygments_lexer": "ipython3",
   "version": "3.11.3"
  }
 },
 "nbformat": 4,
 "nbformat_minor": 5
}
